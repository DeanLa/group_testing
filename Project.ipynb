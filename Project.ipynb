{
 "cells": [
  {
   "cell_type": "markdown",
   "metadata": {},
   "source": [
    "# Langsam Adaptive Bayesian Strategy for the Group Tetsting Problem\n",
    "## Introduction\n",
    "\n",
    "The $(N, q)$ combinatorial group testing problem is defined on set of $N$ items, either of which can be GOOD with probability $q$ or BAD with probability $1-q$. In order to achieve full calssification there exists a **Group Testing Machine** (GTM) that accepts any finite number of items and can produce one of two results:\n",
    "1. The test **passes** if all items in the test are GOOD.\n",
    "2. The test **fails** if one or more items are BAD.\n",
    "\n",
    "A passed test achieves full classification for the set of tested items, where a failed test requires further investigation on the **contaminated** set.\n",
    "\n",
    "The $(\\infty, q)$ or $q$-endless group testing problem represent an endless (Or very large) line of items and a GTM, and its purpose is to find an optimal **strategy** of group testing that minimizes the amount ratio $\\frac{tests}{item}$ (equivalently maximizes $\\frac{items}{test}$). It is important to note that for $N \\ge 8$, the optimal strategy unknown as this problem is super-exponential and becomes very large, very quickly, let alone when $N$ itself grows to inifinity. I start with discussing known strategies for the q-endless problem. I will then compare which strategy is better for different values of $q$. I will discuss the main conclusions from those strategies and use those conclusions as assumptions for the main problem which is presented next.\n",
    "\n",
    "## Goal\n",
    "The $(\\infty, \\bar{q})$ is a $q$-endless problem where $q$ in unknown to the tester, thus no strategy can be chosen in advance. $\\bar{q}$ is assumed to be a consant value, thus pretty simple strategies can be chosen after an initial \"warming\" period.\n",
    "the $(\\infty, \\tilde{q})$ is also a $q$-endless problem where $q$ in unknown to the tester, moreover, simulating real-life, $\\tilde{q}$ can change with every batch of items (imagine each day in a factory, after shutting the production machines off and on, $\\tilde{q}$ may change). For this problem, a more complex, Bayesian approach is proposed.\n",
    "\n",
    "## Known Strategies\n",
    "### One-by-One\n",
    "The one-by-one (1by1) algorithm is the simplest algorithm and is, in fact, not a group testing algorithm. The algorithm proposes to check each item alone, and thus, trivially achieves the result of $1 \\frac{tests}{item}$. It has been proven, analytically, that the 1by1 strategy is the optimal strategy for all $0 \\le q \\le 0.618$ and all $N$ (finite and infinite)."
   ]
  },
  {
   "cell_type": "code",
   "execution_count": 3,
   "metadata": {
    "collapsed": false,
    "scrolled": false
   },
   "outputs": [],
   "source": [
    "from strategies import *"
   ]
  },
  {
   "cell_type": "code",
   "execution_count": 9,
   "metadata": {
    "collapsed": false
   },
   "outputs": [
    {
     "data": {
      "text/plain": [
       "12.37728909654326"
      ]
     },
     "execution_count": 9,
     "metadata": {},
     "output_type": "execute_result"
    }
   ],
   "source": [
    "q = 0.99\n",
    "n = 1000000\n",
    "p=1-q\n",
    "\n",
    "1/(-q*np.log2(q)-p*np.log2(p))"
   ]
  }
 ],
 "metadata": {
  "kernelspec": {
   "display_name": "Python 3",
   "language": "python",
   "name": "python3"
  },
  "language_info": {
   "codemirror_mode": {
    "name": "ipython",
    "version": 3
   },
   "file_extension": ".py",
   "mimetype": "text/x-python",
   "name": "python",
   "nbconvert_exporter": "python",
   "pygments_lexer": "ipython3",
   "version": "3.5.1"
  }
 },
 "nbformat": 4,
 "nbformat_minor": 0
}
